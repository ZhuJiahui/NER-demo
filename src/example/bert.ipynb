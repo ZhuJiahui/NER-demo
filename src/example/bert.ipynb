{
 "cells": [
  {
   "cell_type": "code",
   "execution_count": 1,
   "metadata": {},
   "outputs": [],
   "source": [
    "import os"
   ]
  },
  {
   "cell_type": "code",
   "execution_count": 2,
   "metadata": {},
   "outputs": [
    {
     "name": "stdout",
     "output_type": "stream",
     "text": [
      "README.md  data  run.sh  setup_environment.sh  src\n"
     ]
    }
   ],
   "source": [
    "os.chdir('../../')\n",
    "!ls"
   ]
  },
  {
   "cell_type": "code",
   "execution_count": 4,
   "metadata": {},
   "outputs": [],
   "source": [
    "from src.utils import *"
   ]
  },
  {
   "cell_type": "code",
   "execution_count": 5,
   "metadata": {},
   "outputs": [],
   "source": [
    "x_train, y_train = load_data_and_labels('./data/train.txt')"
   ]
  },
  {
   "cell_type": "code",
   "execution_count": 6,
   "metadata": {},
   "outputs": [
    {
     "data": {
      "text/plain": [
       "298770"
      ]
     },
     "execution_count": 6,
     "metadata": {},
     "output_type": "execute_result"
    }
   ],
   "source": [
    "len(x_train)"
   ]
  },
  {
   "cell_type": "code",
   "execution_count": 7,
   "metadata": {},
   "outputs": [
    {
     "data": {
      "text/plain": [
       "298770"
      ]
     },
     "execution_count": 7,
     "metadata": {},
     "output_type": "execute_result"
    }
   ],
   "source": [
    "len(y_train)"
   ]
  },
  {
   "cell_type": "code",
   "execution_count": 8,
   "metadata": {},
   "outputs": [
    {
     "data": {
      "text/plain": [
       "['当',\n",
       " '希',\n",
       " '望',\n",
       " '工',\n",
       " '程',\n",
       " '救',\n",
       " '助',\n",
       " '的',\n",
       " '百',\n",
       " '万',\n",
       " '儿',\n",
       " '童',\n",
       " '成',\n",
       " '长',\n",
       " '起',\n",
       " '来',\n",
       " '，']"
      ]
     },
     "execution_count": 8,
     "metadata": {},
     "output_type": "execute_result"
    }
   ],
   "source": [
    "x_train[0]"
   ]
  },
  {
   "cell_type": "code",
   "execution_count": 9,
   "metadata": {},
   "outputs": [
    {
     "data": {
      "text/plain": [
       "['O',\n",
       " 'O',\n",
       " 'O',\n",
       " 'O',\n",
       " 'O',\n",
       " 'O',\n",
       " 'O',\n",
       " 'O',\n",
       " 'O',\n",
       " 'O',\n",
       " 'O',\n",
       " 'O',\n",
       " 'O',\n",
       " 'O',\n",
       " 'O',\n",
       " 'O',\n",
       " 'O']"
      ]
     },
     "execution_count": 9,
     "metadata": {},
     "output_type": "execute_result"
    }
   ],
   "source": [
    "y_train[0]"
   ]
  },
  {
   "cell_type": "code",
   "execution_count": 16,
   "metadata": {},
   "outputs": [
    {
     "name": "stdout",
     "output_type": "stream",
     "text": [
      "当\tO\n",
      "希\tO\n",
      "望\tO\n",
      "工\tO\n",
      "程\tO\n",
      "救\tO\n",
      "助\tO\n",
      "的\tO\n",
      "百\tO\n",
      "万\tO\n",
      "儿\tO\n",
      "童\tO\n",
      "成\tO\n",
      "长\tO\n",
      "起\tO\n",
      "来\tO\n",
      "，\tO\n",
      "科\tO\n",
      "教\tO\n",
      "兴\tO\n",
      "国\tO\n",
      "蔚\tO\n",
      "然\tO\n",
      "成\tO\n",
      "风\tO\n",
      "时\tO\n",
      "，\tO\n",
      "今\tO\n",
      "天\tO\n",
      "有\tO\n",
      "收\tO\n",
      "藏\tO\n",
      "价\tO\n",
      "值\tO\n",
      "的\tO\n",
      "书\tO\n",
      "你\tO\n",
      "没\tO\n",
      "买\tO\n",
      "，\tO\n",
      "明\tO\n",
      "日\tO\n",
      "就\tO\n",
      "叫\tO\n",
      "你\tO\n",
      "悔\tO\n",
      "不\tO\n",
      "当\tO\n",
      "初\tO\n",
      "！\tO\n",
      "\n",
      "藏\tO\n",
      "书\tO\n",
      "本\tO\n",
      "来\tO\n",
      "就\tO\n",
      "是\tO\n",
      "所\tO\n",
      "有\tO\n",
      "传\tO\n",
      "统\tO\n",
      "收\tO\n",
      "藏\tO\n",
      "门\tO\n",
      "类\tO\n",
      "中\tO\n",
      "的\tO\n",
      "第\tO\n",
      "一\tO\n",
      "大\tO\n",
      "户\tO\n",
      "，\tO\n",
      "只\tO\n",
      "是\tO\n",
      "我\tO\n",
      "们\tO\n",
      "结\tO\n",
      "束\tO\n",
      "温\tO\n",
      "饱\tO\n",
      "的\tO\n",
      "时\tO\n",
      "间\tO\n",
      "太\tO\n",
      "短\tO\n",
      "而\tO\n",
      "已\tO\n",
      "。\tO\n",
      "\n",
      "因\tO\n",
      "有\tO\n",
      "关\tO\n",
      "日\tB-LOC\n",
      "寇\tO\n",
      "在\tO\n",
      "京\tB-LOC\n",
      "掠\tO\n",
      "夺\tO\n",
      "文\tO\n",
      "物\tO\n"
     ]
    }
   ],
   "source": [
    "!head -100 ./data/train.txt "
   ]
  },
  {
   "cell_type": "markdown",
   "metadata": {},
   "source": [
    "三标注格式(B I O)的数据"
   ]
  },
  {
   "cell_type": "code",
   "execution_count": null,
   "metadata": {},
   "outputs": [],
   "source": []
  }
 ],
 "metadata": {
  "kernelspec": {
   "display_name": "Python 3",
   "language": "python",
   "name": "python3"
  },
  "language_info": {
   "codemirror_mode": {
    "name": "ipython",
    "version": 3
   },
   "file_extension": ".py",
   "mimetype": "text/x-python",
   "name": "python",
   "nbconvert_exporter": "python",
   "pygments_lexer": "ipython3",
   "version": "3.7.9"
  }
 },
 "nbformat": 4,
 "nbformat_minor": 4
}
