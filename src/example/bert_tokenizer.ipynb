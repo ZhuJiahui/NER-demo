{
 "cells": [
  {
   "cell_type": "code",
   "execution_count": 1,
   "metadata": {},
   "outputs": [],
   "source": [
    "import os"
   ]
  },
  {
   "cell_type": "code",
   "execution_count": 2,
   "metadata": {},
   "outputs": [
    {
     "name": "stdout",
     "output_type": "stream",
     "text": [
      "README.md  data  models  run.sh  setup_environment.sh  src\n"
     ]
    }
   ],
   "source": [
    "os.chdir('../../')\n",
    "!ls"
   ]
  },
  {
   "cell_type": "code",
   "execution_count": 3,
   "metadata": {},
   "outputs": [],
   "source": [
    "from src.utils import *"
   ]
  },
  {
   "cell_type": "code",
   "execution_count": 4,
   "metadata": {},
   "outputs": [],
   "source": [
    "x_train, y_train = load_data_and_labels('./data/train.txt')"
   ]
  },
  {
   "cell_type": "code",
   "execution_count": 5,
   "metadata": {},
   "outputs": [
    {
     "data": {
      "text/plain": [
       "298770"
      ]
     },
     "execution_count": 5,
     "metadata": {},
     "output_type": "execute_result"
    }
   ],
   "source": [
    "len(x_train)"
   ]
  },
  {
   "cell_type": "code",
   "execution_count": 6,
   "metadata": {},
   "outputs": [
    {
     "data": {
      "text/plain": [
       "298770"
      ]
     },
     "execution_count": 6,
     "metadata": {},
     "output_type": "execute_result"
    }
   ],
   "source": [
    "len(y_train)"
   ]
  },
  {
   "cell_type": "code",
   "execution_count": 7,
   "metadata": {},
   "outputs": [
    {
     "data": {
      "text/plain": [
       "['当',\n",
       " '希',\n",
       " '望',\n",
       " '工',\n",
       " '程',\n",
       " '救',\n",
       " '助',\n",
       " '的',\n",
       " '百',\n",
       " '万',\n",
       " '儿',\n",
       " '童',\n",
       " '成',\n",
       " '长',\n",
       " '起',\n",
       " '来',\n",
       " '，']"
      ]
     },
     "execution_count": 7,
     "metadata": {},
     "output_type": "execute_result"
    }
   ],
   "source": [
    "x_train[0]"
   ]
  },
  {
   "cell_type": "code",
   "execution_count": 8,
   "metadata": {},
   "outputs": [
    {
     "data": {
      "text/plain": [
       "['O',\n",
       " 'O',\n",
       " 'O',\n",
       " 'O',\n",
       " 'O',\n",
       " 'O',\n",
       " 'O',\n",
       " 'O',\n",
       " 'O',\n",
       " 'O',\n",
       " 'O',\n",
       " 'O',\n",
       " 'O',\n",
       " 'O',\n",
       " 'O',\n",
       " 'O',\n",
       " 'O']"
      ]
     },
     "execution_count": 8,
     "metadata": {},
     "output_type": "execute_result"
    }
   ],
   "source": [
    "y_train[0]"
   ]
  },
  {
   "cell_type": "code",
   "execution_count": 9,
   "metadata": {},
   "outputs": [
    {
     "name": "stdout",
     "output_type": "stream",
     "text": [
      "当\tO\n",
      "希\tO\n",
      "望\tO\n",
      "工\tO\n",
      "程\tO\n",
      "救\tO\n",
      "助\tO\n",
      "的\tO\n",
      "百\tO\n",
      "万\tO\n",
      "儿\tO\n",
      "童\tO\n",
      "成\tO\n",
      "长\tO\n",
      "起\tO\n",
      "来\tO\n",
      "，\tO\n",
      "科\tO\n",
      "教\tO\n",
      "兴\tO\n",
      "国\tO\n",
      "蔚\tO\n",
      "然\tO\n",
      "成\tO\n",
      "风\tO\n",
      "时\tO\n",
      "，\tO\n",
      "今\tO\n",
      "天\tO\n",
      "有\tO\n",
      "收\tO\n",
      "藏\tO\n",
      "价\tO\n",
      "值\tO\n",
      "的\tO\n",
      "书\tO\n",
      "你\tO\n",
      "没\tO\n",
      "买\tO\n",
      "，\tO\n",
      "明\tO\n",
      "日\tO\n",
      "就\tO\n",
      "叫\tO\n",
      "你\tO\n",
      "悔\tO\n",
      "不\tO\n",
      "当\tO\n",
      "初\tO\n",
      "！\tO\n",
      "\n",
      "藏\tO\n",
      "书\tO\n",
      "本\tO\n",
      "来\tO\n",
      "就\tO\n",
      "是\tO\n",
      "所\tO\n",
      "有\tO\n",
      "传\tO\n",
      "统\tO\n",
      "收\tO\n",
      "藏\tO\n",
      "门\tO\n",
      "类\tO\n",
      "中\tO\n",
      "的\tO\n",
      "第\tO\n",
      "一\tO\n",
      "大\tO\n",
      "户\tO\n",
      "，\tO\n",
      "只\tO\n",
      "是\tO\n",
      "我\tO\n",
      "们\tO\n",
      "结\tO\n",
      "束\tO\n",
      "温\tO\n",
      "饱\tO\n",
      "的\tO\n",
      "时\tO\n",
      "间\tO\n",
      "太\tO\n",
      "短\tO\n",
      "而\tO\n",
      "已\tO\n",
      "。\tO\n",
      "\n",
      "因\tO\n",
      "有\tO\n",
      "关\tO\n",
      "日\tB-LOC\n",
      "寇\tO\n",
      "在\tO\n",
      "京\tB-LOC\n",
      "掠\tO\n",
      "夺\tO\n",
      "文\tO\n",
      "物\tO\n"
     ]
    }
   ],
   "source": [
    "!head -100 ./data/train.txt "
   ]
  },
  {
   "cell_type": "markdown",
   "metadata": {},
   "source": [
    "三标注格式(B I O; 无S)的数据"
   ]
  },
  {
   "cell_type": "markdown",
   "metadata": {},
   "source": [
    "https://s3.amazonaws.com/models.huggingface.co/bert/dslim/bert-base-NER/config.json"
   ]
  },
  {
   "cell_type": "markdown",
   "metadata": {},
   "source": [
    "https://github.com/huggingface/transformers/tree/master/examples/token-classification\n",
    "\n",
    "\n",
    "\n",
    "https://github.com/kamalkraj/BERT-NER/blob/dev/bert.py#L15\n",
    "\n",
    "\n",
    "https://huggingface.co/transformers/model_doc/bert.html#bertfortokenclassification\n",
    "\n",
    "\n",
    "https://huggingface.co/transformers/_modules/transformers/modeling_bert.html#BertForTokenClassification"
   ]
  },
  {
   "cell_type": "markdown",
   "metadata": {},
   "source": [
    "https://github.com/xuanzebi/BERT-CH-NER\n",
    "\n",
    "https://github.com/lemonhu/NER-BERT-pytorch"
   ]
  },
  {
   "cell_type": "code",
   "execution_count": 10,
   "metadata": {},
   "outputs": [],
   "source": [
    "def check_tag(Y):\n",
    "    has_s = False\n",
    "    for y in Y:\n",
    "        for tag in y:\n",
    "            if tag == 'S':\n",
    "                has_s = True\n",
    "                return has_s\n",
    "    return has_s"
   ]
  },
  {
   "cell_type": "code",
   "execution_count": 11,
   "metadata": {},
   "outputs": [
    {
     "data": {
      "text/plain": [
       "False"
      ]
     },
     "execution_count": 11,
     "metadata": {},
     "output_type": "execute_result"
    }
   ],
   "source": [
    "check_tag(y_train)"
   ]
  },
  {
   "cell_type": "code",
   "execution_count": 12,
   "metadata": {},
   "outputs": [],
   "source": [
    "def get_unique_tags(Y):\n",
    "    tags = set()\n",
    "    for y in Y:\n",
    "        for tag in y:\n",
    "            tags.add(tag)\n",
    "    return tags"
   ]
  },
  {
   "cell_type": "code",
   "execution_count": 13,
   "metadata": {},
   "outputs": [
    {
     "data": {
      "text/plain": [
       "{'B-LOC', 'B-ORG', 'B-PER', 'I-LOC', 'I-ORG', 'I-PER', 'O'}"
      ]
     },
     "execution_count": 13,
     "metadata": {},
     "output_type": "execute_result"
    }
   ],
   "source": [
    "get_unique_tags(y_train)"
   ]
  },
  {
   "cell_type": "code",
   "execution_count": 14,
   "metadata": {},
   "outputs": [],
   "source": [
    "max_seq_len = max(map(len,x_train))"
   ]
  },
  {
   "cell_type": "code",
   "execution_count": 15,
   "metadata": {},
   "outputs": [
    {
     "data": {
      "text/plain": [
       "100"
      ]
     },
     "execution_count": 15,
     "metadata": {},
     "output_type": "execute_result"
    }
   ],
   "source": [
    "max_seq_len"
   ]
  },
  {
   "cell_type": "code",
   "execution_count": 16,
   "metadata": {},
   "outputs": [],
   "source": [
    "tag_encoder = TagEncoder(max_len = max_seq_len)"
   ]
  },
  {
   "cell_type": "markdown",
   "metadata": {},
   "source": [
    "\n",
    "\n",
    "https://huggingface.co/bert-base-chinese\n",
    "\n"
   ]
  },
  {
   "cell_type": "code",
   "execution_count": 17,
   "metadata": {},
   "outputs": [],
   "source": [
    "from transformers import AutoTokenizer\n",
    "tokenizer = AutoTokenizer.from_pretrained(\"bert-base-chinese\", cache_dir = './models/bert/')"
   ]
  },
  {
   "cell_type": "code",
   "execution_count": 19,
   "metadata": {},
   "outputs": [
    {
     "name": "stdout",
     "output_type": "stream",
     "text": [
      "README.md  data  models  run.sh  setup_environment.sh  src\n"
     ]
    }
   ],
   "source": [
    "!ls"
   ]
  },
  {
   "cell_type": "code",
   "execution_count": 20,
   "metadata": {},
   "outputs": [
    {
     "name": "stdout",
     "output_type": "stream",
     "text": [
      "0\n"
     ]
    }
   ],
   "source": [
    "print(tokenizer.pad_token_id)"
   ]
  },
  {
   "cell_type": "code",
   "execution_count": 21,
   "metadata": {},
   "outputs": [
    {
     "data": {
      "text/plain": [
       "[101, 8701, 8572, 102]"
      ]
     },
     "execution_count": 21,
     "metadata": {},
     "output_type": "execute_result"
    }
   ],
   "source": [
    "text = 'hello world'\n",
    "tokenizer.encode(text, text_pair=None, add_special_tokens=True)"
   ]
  },
  {
   "cell_type": "code",
   "execution_count": 22,
   "metadata": {},
   "outputs": [
    {
     "data": {
      "text/plain": [
       "[8701, 8572]"
      ]
     },
     "execution_count": 22,
     "metadata": {},
     "output_type": "execute_result"
    }
   ],
   "source": [
    "text = 'hello world'\n",
    "tokenizer.encode(text, text_pair=None, add_special_tokens=False)"
   ]
  },
  {
   "cell_type": "code",
   "execution_count": 23,
   "metadata": {},
   "outputs": [
    {
     "data": {
      "text/plain": [
       "101"
      ]
     },
     "execution_count": 23,
     "metadata": {},
     "output_type": "execute_result"
    }
   ],
   "source": [
    "tokenizer.convert_tokens_to_ids('[CLS]')"
   ]
  },
  {
   "cell_type": "code",
   "execution_count": 24,
   "metadata": {},
   "outputs": [
    {
     "data": {
      "text/plain": [
       "102"
      ]
     },
     "execution_count": 24,
     "metadata": {},
     "output_type": "execute_result"
    }
   ],
   "source": [
    "tokenizer.convert_tokens_to_ids('[SEP]')"
   ]
  },
  {
   "cell_type": "code",
   "execution_count": null,
   "metadata": {},
   "outputs": [],
   "source": []
  }
 ],
 "metadata": {
  "kernelspec": {
   "display_name": "Python 3",
   "language": "python",
   "name": "python3"
  },
  "language_info": {
   "codemirror_mode": {
    "name": "ipython",
    "version": 3
   },
   "file_extension": ".py",
   "mimetype": "text/x-python",
   "name": "python",
   "nbconvert_exporter": "python",
   "pygments_lexer": "ipython3",
   "version": "3.7.9"
  }
 },
 "nbformat": 4,
 "nbformat_minor": 4
}
